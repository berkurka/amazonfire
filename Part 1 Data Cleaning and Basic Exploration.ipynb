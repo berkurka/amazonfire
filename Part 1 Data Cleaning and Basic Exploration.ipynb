{
 "cells": [
  {
   "cell_type": "code",
   "execution_count": 1,
   "metadata": {},
   "outputs": [],
   "source": [
    "import pandas as pd\n",
    "import my_functions"
   ]
  },
  {
   "cell_type": "markdown",
   "metadata": {},
   "source": [
    "## Importing data"
   ]
  },
  {
   "cell_type": "code",
   "execution_count": 3,
   "metadata": {},
   "outputs": [],
   "source": [
    "path = './data' # Relative path \n",
    "\n",
    "# Dictionary to change column names to english\n",
    "column_dic = {'DataHora' :'Date',\n",
    "              'Satelite' :'Satellite', \n",
    "              'Pais' :'Country',\n",
    "              'Estado' :'State',\n",
    "              'Municipi' :'County',\n",
    "              'Bioma' :'Biome',\n",
    "              'DiaSemCh' :'Days_without_rain',\n",
    "              'Precipit' :'Precipitation',\n",
    "              'RiscoFog' :'Fire_risk',\n",
    "              'AreaIndu' :'Industrial_area'}\n",
    "\n",
    "## Calling a function from a other python file\n",
    "result = my_functions.import_multiple_csv(path, '/Focos',\n",
    "                                          column_sep=';', \n",
    "                                          col_name_dic = column_dic,\n",
    "                                          col_dtypes_dic = {'Precipit': str})"
   ]
  },
  {
   "cell_type": "markdown",
   "metadata": {},
   "source": [
    "# Exploring the data\n",
    "These are the methods I usually use to explore a new data set\n",
    "    1. df.shape \n",
    "    2. df.head() or df.sample(5) \n",
    "    3. df.dtypes or df.info()\n",
    "    4. df.isnull().sum()\n",
    "    5. df.describe()"
   ]
  },
  {
   "cell_type": "code",
   "execution_count": 6,
   "metadata": {},
   "outputs": [
    {
     "data": {
      "text/plain": [
       "(9022220, 13)"
      ]
     },
     "execution_count": 6,
     "metadata": {},
     "output_type": "execute_result"
    }
   ],
   "source": [
    "result.shape # Checking number of rows and columns in the df"
   ]
  },
  {
   "cell_type": "code",
   "execution_count": 7,
   "metadata": {},
   "outputs": [
    {
     "data": {
      "text/html": [
       "<div>\n",
       "<style scoped>\n",
       "    .dataframe tbody tr th:only-of-type {\n",
       "        vertical-align: middle;\n",
       "    }\n",
       "\n",
       "    .dataframe tbody tr th {\n",
       "        vertical-align: top;\n",
       "    }\n",
       "\n",
       "    .dataframe thead th {\n",
       "        text-align: right;\n",
       "    }\n",
       "</style>\n",
       "<table border=\"1\" class=\"dataframe\">\n",
       "  <thead>\n",
       "    <tr style=\"text-align: right;\">\n",
       "      <th></th>\n",
       "      <th>Date</th>\n",
       "      <th>Satellite</th>\n",
       "      <th>Country</th>\n",
       "      <th>State</th>\n",
       "      <th>County</th>\n",
       "      <th>Biome</th>\n",
       "      <th>Days_without_rain</th>\n",
       "      <th>Precipitation</th>\n",
       "      <th>Fire_risk</th>\n",
       "      <th>Latitude</th>\n",
       "      <th>Longitud</th>\n",
       "      <th>Industrial_area</th>\n",
       "      <th>FRP</th>\n",
       "    </tr>\n",
       "  </thead>\n",
       "  <tbody>\n",
       "    <tr>\n",
       "      <th>0</th>\n",
       "      <td>2007/01/01 02:51:00</td>\n",
       "      <td>TERRA_M-M</td>\n",
       "      <td>Brasil</td>\n",
       "      <td>RORAIMA</td>\n",
       "      <td>CANTA</td>\n",
       "      <td>Amazonia</td>\n",
       "      <td>NaN</td>\n",
       "      <td>NaN</td>\n",
       "      <td>NaN</td>\n",
       "      <td>2.291</td>\n",
       "      <td>-60.247</td>\n",
       "      <td>NaN</td>\n",
       "      <td>NaN</td>\n",
       "    </tr>\n",
       "    <tr>\n",
       "      <th>1</th>\n",
       "      <td>2007/01/01 02:51:00</td>\n",
       "      <td>TERRA_M-M</td>\n",
       "      <td>Brasil</td>\n",
       "      <td>RORAIMA</td>\n",
       "      <td>CARACARAI</td>\n",
       "      <td>Amazonia</td>\n",
       "      <td>NaN</td>\n",
       "      <td>NaN</td>\n",
       "      <td>NaN</td>\n",
       "      <td>1.937</td>\n",
       "      <td>-61.062</td>\n",
       "      <td>NaN</td>\n",
       "      <td>NaN</td>\n",
       "    </tr>\n",
       "    <tr>\n",
       "      <th>2</th>\n",
       "      <td>2007/01/01 04:09:00</td>\n",
       "      <td>AQUA_M-M</td>\n",
       "      <td>Brasil</td>\n",
       "      <td>MARANHAO</td>\n",
       "      <td>CANDIDO MENDES</td>\n",
       "      <td>Amazonia</td>\n",
       "      <td>NaN</td>\n",
       "      <td>NaN</td>\n",
       "      <td>NaN</td>\n",
       "      <td>-1.387</td>\n",
       "      <td>-45.614</td>\n",
       "      <td>NaN</td>\n",
       "      <td>NaN</td>\n",
       "    </tr>\n",
       "    <tr>\n",
       "      <th>3</th>\n",
       "      <td>2007/01/01 13:34:00</td>\n",
       "      <td>TERRA_M-T</td>\n",
       "      <td>Brasil</td>\n",
       "      <td>PARA</td>\n",
       "      <td>AUGUSTO CORREA</td>\n",
       "      <td>Amazonia</td>\n",
       "      <td>NaN</td>\n",
       "      <td>NaN</td>\n",
       "      <td>NaN</td>\n",
       "      <td>-1.266</td>\n",
       "      <td>-46.501</td>\n",
       "      <td>NaN</td>\n",
       "      <td>NaN</td>\n",
       "    </tr>\n",
       "    <tr>\n",
       "      <th>4</th>\n",
       "      <td>2007/01/01 13:34:00</td>\n",
       "      <td>TERRA_M-T</td>\n",
       "      <td>Brasil</td>\n",
       "      <td>MARANHAO</td>\n",
       "      <td>CANDIDO MENDES</td>\n",
       "      <td>Amazonia</td>\n",
       "      <td>NaN</td>\n",
       "      <td>NaN</td>\n",
       "      <td>NaN</td>\n",
       "      <td>-1.404</td>\n",
       "      <td>-45.637</td>\n",
       "      <td>NaN</td>\n",
       "      <td>NaN</td>\n",
       "    </tr>\n",
       "  </tbody>\n",
       "</table>\n",
       "</div>"
      ],
      "text/plain": [
       "                  Date  Satellite Country     State          County     Biome  \\\n",
       "0  2007/01/01 02:51:00  TERRA_M-M  Brasil   RORAIMA           CANTA  Amazonia   \n",
       "1  2007/01/01 02:51:00  TERRA_M-M  Brasil   RORAIMA       CARACARAI  Amazonia   \n",
       "2  2007/01/01 04:09:00   AQUA_M-M  Brasil  MARANHAO  CANDIDO MENDES  Amazonia   \n",
       "3  2007/01/01 13:34:00  TERRA_M-T  Brasil      PARA  AUGUSTO CORREA  Amazonia   \n",
       "4  2007/01/01 13:34:00  TERRA_M-T  Brasil  MARANHAO  CANDIDO MENDES  Amazonia   \n",
       "\n",
       "   Days_without_rain Precipitation  Fire_risk  Latitude  Longitud  \\\n",
       "0                NaN           NaN        NaN     2.291   -60.247   \n",
       "1                NaN           NaN        NaN     1.937   -61.062   \n",
       "2                NaN           NaN        NaN    -1.387   -45.614   \n",
       "3                NaN           NaN        NaN    -1.266   -46.501   \n",
       "4                NaN           NaN        NaN    -1.404   -45.637   \n",
       "\n",
       "   Industrial_area  FRP  \n",
       "0              NaN  NaN  \n",
       "1              NaN  NaN  \n",
       "2              NaN  NaN  \n",
       "3              NaN  NaN  \n",
       "4              NaN  NaN  "
      ]
     },
     "execution_count": 7,
     "metadata": {},
     "output_type": "execute_result"
    }
   ],
   "source": [
    "result.head() # Printing the first 5 rows"
   ]
  },
  {
   "cell_type": "code",
   "execution_count": 8,
   "metadata": {},
   "outputs": [
    {
     "data": {
      "text/plain": [
       "Date                  object\n",
       "Satellite             object\n",
       "Country               object\n",
       "State                 object\n",
       "County                object\n",
       "Biome                 object\n",
       "Days_without_rain    float64\n",
       "Precipitation         object\n",
       "Fire_risk            float64\n",
       "Latitude             float64\n",
       "Longitud             float64\n",
       "Industrial_area      float64\n",
       "FRP                  float64\n",
       "dtype: object"
      ]
     },
     "execution_count": 8,
     "metadata": {},
     "output_type": "execute_result"
    }
   ],
   "source": [
    "result.dtypes # Check if data types are what you expect"
   ]
  },
  {
   "cell_type": "code",
   "execution_count": 9,
   "metadata": {},
   "outputs": [
    {
     "data": {
      "text/plain": [
       "Date                       0\n",
       "Satellite                  0\n",
       "Country                    0\n",
       "State                      0\n",
       "County                     0\n",
       "Biome                      0\n",
       "Days_without_rain    5961261\n",
       "Precipitation        3589306\n",
       "Fire_risk            3707901\n",
       "Latitude                   0\n",
       "Longitud                   0\n",
       "Industrial_area      9022220\n",
       "FRP                  8087233\n",
       "dtype: int64"
      ]
     },
     "execution_count": 9,
     "metadata": {},
     "output_type": "execute_result"
    }
   ],
   "source": [
    "result.isnull().sum() # Check number of null rows per column"
   ]
  },
  {
   "cell_type": "code",
   "execution_count": 10,
   "metadata": {},
   "outputs": [
    {
     "data": {
      "text/html": [
       "<div>\n",
       "<style scoped>\n",
       "    .dataframe tbody tr th:only-of-type {\n",
       "        vertical-align: middle;\n",
       "    }\n",
       "\n",
       "    .dataframe tbody tr th {\n",
       "        vertical-align: top;\n",
       "    }\n",
       "\n",
       "    .dataframe thead th {\n",
       "        text-align: right;\n",
       "    }\n",
       "</style>\n",
       "<table border=\"1\" class=\"dataframe\">\n",
       "  <thead>\n",
       "    <tr style=\"text-align: right;\">\n",
       "      <th></th>\n",
       "      <th>Date</th>\n",
       "      <th>Satellite</th>\n",
       "      <th>Country</th>\n",
       "      <th>State</th>\n",
       "      <th>County</th>\n",
       "      <th>Biome</th>\n",
       "      <th>Precipitation</th>\n",
       "    </tr>\n",
       "  </thead>\n",
       "  <tbody>\n",
       "    <tr>\n",
       "      <th>count</th>\n",
       "      <td>9022220</td>\n",
       "      <td>9022220</td>\n",
       "      <td>9022220</td>\n",
       "      <td>9022220</td>\n",
       "      <td>9022220</td>\n",
       "      <td>9022220</td>\n",
       "      <td>5432914</td>\n",
       "    </tr>\n",
       "    <tr>\n",
       "      <th>unique</th>\n",
       "      <td>562618</td>\n",
       "      <td>28</td>\n",
       "      <td>1</td>\n",
       "      <td>9</td>\n",
       "      <td>547</td>\n",
       "      <td>1</td>\n",
       "      <td>5382</td>\n",
       "    </tr>\n",
       "    <tr>\n",
       "      <th>top</th>\n",
       "      <td>2019/08/14 17:18:00</td>\n",
       "      <td>NPP-375</td>\n",
       "      <td>Brasil</td>\n",
       "      <td>PARA</td>\n",
       "      <td>SAO FELIX DO XINGU</td>\n",
       "      <td>Amazonia</td>\n",
       "      <td>0</td>\n",
       "    </tr>\n",
       "    <tr>\n",
       "      <th>freq</th>\n",
       "      <td>8273</td>\n",
       "      <td>4324187</td>\n",
       "      <td>9022220</td>\n",
       "      <td>3540028</td>\n",
       "      <td>336070</td>\n",
       "      <td>9022220</td>\n",
       "      <td>4301659</td>\n",
       "    </tr>\n",
       "  </tbody>\n",
       "</table>\n",
       "</div>"
      ],
      "text/plain": [
       "                       Date Satellite  Country    State              County  \\\n",
       "count               9022220   9022220  9022220  9022220             9022220   \n",
       "unique               562618        28        1        9                 547   \n",
       "top     2019/08/14 17:18:00   NPP-375   Brasil     PARA  SAO FELIX DO XINGU   \n",
       "freq                   8273   4324187  9022220  3540028              336070   \n",
       "\n",
       "           Biome Precipitation  \n",
       "count    9022220       5432914  \n",
       "unique         1          5382  \n",
       "top     Amazonia             0  \n",
       "freq     9022220       4301659  "
      ]
     },
     "execution_count": 10,
     "metadata": {},
     "output_type": "execute_result"
    }
   ],
   "source": [
    "result.select_dtypes(include=['object']).describe()"
   ]
  },
  {
   "cell_type": "code",
   "execution_count": 11,
   "metadata": {},
   "outputs": [
    {
     "data": {
      "text/html": [
       "<div>\n",
       "<style scoped>\n",
       "    .dataframe tbody tr th:only-of-type {\n",
       "        vertical-align: middle;\n",
       "    }\n",
       "\n",
       "    .dataframe tbody tr th {\n",
       "        vertical-align: top;\n",
       "    }\n",
       "\n",
       "    .dataframe thead th {\n",
       "        text-align: right;\n",
       "    }\n",
       "</style>\n",
       "<table border=\"1\" class=\"dataframe\">\n",
       "  <thead>\n",
       "    <tr style=\"text-align: right;\">\n",
       "      <th></th>\n",
       "      <th>Days_without_rain</th>\n",
       "      <th>Fire_risk</th>\n",
       "      <th>Latitude</th>\n",
       "      <th>Longitud</th>\n",
       "      <th>Industrial_area</th>\n",
       "      <th>FRP</th>\n",
       "    </tr>\n",
       "  </thead>\n",
       "  <tbody>\n",
       "    <tr>\n",
       "      <th>count</th>\n",
       "      <td>3.060959e+06</td>\n",
       "      <td>5.314319e+06</td>\n",
       "      <td>9.022220e+06</td>\n",
       "      <td>9.022220e+06</td>\n",
       "      <td>0.0</td>\n",
       "      <td>934987.000000</td>\n",
       "    </tr>\n",
       "    <tr>\n",
       "      <th>mean</th>\n",
       "      <td>5.372951e+00</td>\n",
       "      <td>6.822999e-01</td>\n",
       "      <td>-6.779385e+00</td>\n",
       "      <td>-5.555440e+01</td>\n",
       "      <td>NaN</td>\n",
       "      <td>20.689653</td>\n",
       "    </tr>\n",
       "    <tr>\n",
       "      <th>std</th>\n",
       "      <td>1.185245e+01</td>\n",
       "      <td>3.772227e-01</td>\n",
       "      <td>4.155135e+00</td>\n",
       "      <td>6.253647e+00</td>\n",
       "      <td>NaN</td>\n",
       "      <td>62.186850</td>\n",
       "    </tr>\n",
       "    <tr>\n",
       "      <th>min</th>\n",
       "      <td>0.000000e+00</td>\n",
       "      <td>0.000000e+00</td>\n",
       "      <td>-1.629000e+01</td>\n",
       "      <td>-7.393146e+01</td>\n",
       "      <td>NaN</td>\n",
       "      <td>0.000000</td>\n",
       "    </tr>\n",
       "    <tr>\n",
       "      <th>25%</th>\n",
       "      <td>0.000000e+00</td>\n",
       "      <td>3.500000e-01</td>\n",
       "      <td>-9.866670e+00</td>\n",
       "      <td>-6.040891e+01</td>\n",
       "      <td>NaN</td>\n",
       "      <td>3.200000</td>\n",
       "    </tr>\n",
       "    <tr>\n",
       "      <th>50%</th>\n",
       "      <td>0.000000e+00</td>\n",
       "      <td>8.900000e-01</td>\n",
       "      <td>-7.400000e+00</td>\n",
       "      <td>-5.485700e+01</td>\n",
       "      <td>NaN</td>\n",
       "      <td>7.600000</td>\n",
       "    </tr>\n",
       "    <tr>\n",
       "      <th>75%</th>\n",
       "      <td>5.000000e+00</td>\n",
       "      <td>1.000000e+00</td>\n",
       "      <td>-3.570000e+00</td>\n",
       "      <td>-5.064200e+01</td>\n",
       "      <td>NaN</td>\n",
       "      <td>18.100000</td>\n",
       "    </tr>\n",
       "    <tr>\n",
       "      <th>max</th>\n",
       "      <td>1.180000e+02</td>\n",
       "      <td>1.000000e+00</td>\n",
       "      <td>5.230000e+00</td>\n",
       "      <td>-4.364537e+01</td>\n",
       "      <td>NaN</td>\n",
       "      <td>5270.400000</td>\n",
       "    </tr>\n",
       "  </tbody>\n",
       "</table>\n",
       "</div>"
      ],
      "text/plain": [
       "       Days_without_rain     Fire_risk      Latitude      Longitud  \\\n",
       "count       3.060959e+06  5.314319e+06  9.022220e+06  9.022220e+06   \n",
       "mean        5.372951e+00  6.822999e-01 -6.779385e+00 -5.555440e+01   \n",
       "std         1.185245e+01  3.772227e-01  4.155135e+00  6.253647e+00   \n",
       "min         0.000000e+00  0.000000e+00 -1.629000e+01 -7.393146e+01   \n",
       "25%         0.000000e+00  3.500000e-01 -9.866670e+00 -6.040891e+01   \n",
       "50%         0.000000e+00  8.900000e-01 -7.400000e+00 -5.485700e+01   \n",
       "75%         5.000000e+00  1.000000e+00 -3.570000e+00 -5.064200e+01   \n",
       "max         1.180000e+02  1.000000e+00  5.230000e+00 -4.364537e+01   \n",
       "\n",
       "       Industrial_area            FRP  \n",
       "count              0.0  934987.000000  \n",
       "mean               NaN      20.689653  \n",
       "std                NaN      62.186850  \n",
       "min                NaN       0.000000  \n",
       "25%                NaN       3.200000  \n",
       "50%                NaN       7.600000  \n",
       "75%                NaN      18.100000  \n",
       "max                NaN    5270.400000  "
      ]
     },
     "execution_count": 11,
     "metadata": {},
     "output_type": "execute_result"
    }
   ],
   "source": [
    "result.select_dtypes(include=['float64']).describe()"
   ]
  },
  {
   "cell_type": "markdown",
   "metadata": {},
   "source": [
    "## Problems found:\n",
    "Date column is as object"
   ]
  },
  {
   "cell_type": "code",
   "execution_count": 13,
   "metadata": {},
   "outputs": [],
   "source": [
    "# Formating data column\n",
    "result['Date'] = pd.to_datetime(result['Date'], format='%Y/%m/%d %H:%M:%S')"
   ]
  },
  {
   "cell_type": "markdown",
   "metadata": {},
   "source": [
    "## Creating Auxiliary columns"
   ]
  },
  {
   "cell_type": "code",
   "execution_count": 14,
   "metadata": {},
   "outputs": [],
   "source": [
    "# Creating string columns with Month and one with Year\n",
    "result['Month'] = result['Date'].dt.strftime('%m').astype(int)\n",
    "result['Year'] = result['Date'].dt.strftime('%Y').astype(int)"
   ]
  },
  {
   "cell_type": "markdown",
   "metadata": {},
   "source": [
    "## Counting observations"
   ]
  },
  {
   "cell_type": "code",
   "execution_count": 15,
   "metadata": {},
   "outputs": [
    {
     "name": "stdout",
     "output_type": "stream",
     "text": [
      "Number of states 9\n",
      "Number of counties 547\n",
      "Number of sattelites 28\n"
     ]
    }
   ],
   "source": [
    "print(f'Number of states {result.State.nunique()}')\n",
    "print(f'Number of counties {result.County.nunique()}')\n",
    "print(f'Number of sattelites {result.Satellite.nunique()}')"
   ]
  },
  {
   "cell_type": "code",
   "execution_count": 17,
   "metadata": {},
   "outputs": [
    {
     "data": {
      "text/plain": [
       "NPP-375      4324187\n",
       "AQUA_M-T     1209183\n",
       "GOES-16       743387\n",
       "TERRA_M-T     401606\n",
       "GOES-13       330726\n",
       "TERRA_M-M     316313\n",
       "GOES-12       284286\n",
       "NOAA-15       274926\n",
       "NOAA-18       261378\n",
       "GOES-10       152552\n",
       "AQUA_M-M      142343\n",
       "NOAA-19       134193\n",
       "METOP-B        80291\n",
       "NOAA-16        59856\n",
       "MSG-03         57998\n",
       "NOAA-19D       49494\n",
       "NOAA-18D       45282\n",
       "TRMM           44189\n",
       "MSG-02         43496\n",
       "ATSR           17345\n",
       "NOAA-17        16202\n",
       "NOAA-12        11991\n",
       "NOAA-16N       10045\n",
       "NOAA-15D        7049\n",
       "NOAA-20         3006\n",
       "NOAA-20D         382\n",
       "NOAA-12D         296\n",
       "NOAA-14          218\n",
       "Name: Satellite, dtype: int64"
      ]
     },
     "execution_count": 17,
     "metadata": {},
     "output_type": "execute_result"
    }
   ],
   "source": [
    "# Checking how much data for each satelite\n",
    "result['Satellite'].value_counts()"
   ]
  },
  {
   "cell_type": "code",
   "execution_count": 18,
   "metadata": {},
   "outputs": [
    {
     "data": {
      "text/plain": [
       "9     2491734\n",
       "8     2154649\n",
       "10    1473295\n",
       "11    1047277\n",
       "12     572259\n",
       "7      460571\n",
       "3      200431\n",
       "6      197719\n",
       "1      163112\n",
       "2       90450\n",
       "4       87751\n",
       "5       82972\n",
       "Name: Month, dtype: int64"
      ]
     },
     "execution_count": 18,
     "metadata": {},
     "output_type": "execute_result"
    }
   ],
   "source": [
    "# Counting how many observations for each month\n",
    "result['Month'].value_counts()"
   ]
  },
  {
   "cell_type": "code",
   "execution_count": 19,
   "metadata": {},
   "outputs": [
    {
     "data": {
      "text/plain": [
       "2017    1434113\n",
       "2015    1257284\n",
       "2012     921492\n",
       "2018     917148\n",
       "2016     892350\n",
       "2014     770698\n",
       "2019     710145\n",
       "2007     548336\n",
       "2013     485744\n",
       "2010     427791\n",
       "2008     286255\n",
       "2009     207717\n",
       "2011     163147\n",
       "Name: Year, dtype: int64"
      ]
     },
     "execution_count": 19,
     "metadata": {},
     "output_type": "execute_result"
    }
   ],
   "source": [
    "# Counting how many observations for each year\n",
    "result['Year'].value_counts()"
   ]
  }
 ],
 "metadata": {
  "kernelspec": {
   "display_name": "Python (nntest)",
   "language": "python",
   "name": "nntest"
  },
  "language_info": {
   "codemirror_mode": {
    "name": "ipython",
    "version": 3
   },
   "file_extension": ".py",
   "mimetype": "text/x-python",
   "name": "python",
   "nbconvert_exporter": "python",
   "pygments_lexer": "ipython3",
   "version": "3.6.7"
  }
 },
 "nbformat": 4,
 "nbformat_minor": 2
}
